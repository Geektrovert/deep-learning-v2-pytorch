{
 "cells": [
  {
   "cell_type": "markdown",
   "metadata": {},
   "source": [
    "# Neural networks with PyTorch\n",
    "\n",
    "Deep learning networks tend to be massive with dozens or hundreds of layers, that's where the term \"deep\" comes from. You can build one of these deep networks using only weight matrices as we did in the previous notebook, but in general it's very cumbersome and difficult to implement. PyTorch has a nice module `nn` that provides a nice way to efficiently build large neural networks."
   ]
  },
  {
   "cell_type": "code",
   "execution_count": 1,
   "metadata": {},
   "outputs": [],
   "source": [
    "# Import necessary packages\n",
    "\n",
    "%matplotlib inline\n",
    "%config InlineBackend.figure_format = 'retina'\n",
    "\n",
    "import numpy as np\n",
    "import torch\n",
    "\n",
    "import helper\n",
    "\n",
    "import matplotlib.pyplot as plt"
   ]
  },
  {
   "cell_type": "markdown",
   "metadata": {},
   "source": [
    "\n",
    "Now we're going to build a larger network that can solve a (formerly) difficult problem, identifying text in an image. Here we'll use the MNIST dataset which consists of greyscale handwritten digits. Each image is 28x28 pixels, you can see a sample below\n",
    "\n",
    "<img src='assets/mnist.png'>\n",
    "\n",
    "Our goal is to build a neural network that can take one of these images and predict the digit in the image.\n",
    "\n",
    "First up, we need to get our dataset. This is provided through the `torchvision` package. The code below will download the MNIST dataset, then create training and test datasets for us. Don't worry too much about the details here, you'll learn more about this later."
   ]
  },
  {
   "cell_type": "code",
   "execution_count": 2,
   "metadata": {},
   "outputs": [
    {
     "name": "stderr",
     "output_type": "stream",
     "text": [
      "\r",
      "0it [00:00, ?it/s]"
     ]
    },
    {
     "name": "stdout",
     "output_type": "stream",
     "text": [
      "Downloading http://yann.lecun.com/exdb/mnist/train-images-idx3-ubyte.gz to /Users/samnan/.pytorch/MNIST_data/MNIST/raw/train-images-idx3-ubyte.gz\n"
     ]
    },
    {
     "name": "stderr",
     "output_type": "stream",
     "text": [
      "100%|█████████▉| 9912320/9912422 [11:33<00:00, 23152.72it/s]"
     ]
    },
    {
     "name": "stdout",
     "output_type": "stream",
     "text": [
      "Extracting /Users/samnan/.pytorch/MNIST_data/MNIST/raw/train-images-idx3-ubyte.gz to /Users/samnan/.pytorch/MNIST_data/MNIST/raw\n"
     ]
    },
    {
     "name": "stderr",
     "output_type": "stream",
     "text": [
      "\n",
      "0it [00:00, ?it/s]\u001b[A"
     ]
    },
    {
     "name": "stdout",
     "output_type": "stream",
     "text": [
      "Downloading http://yann.lecun.com/exdb/mnist/train-labels-idx1-ubyte.gz to /Users/samnan/.pytorch/MNIST_data/MNIST/raw/train-labels-idx1-ubyte.gz\n"
     ]
    },
    {
     "name": "stderr",
     "output_type": "stream",
     "text": [
      "\n",
      "  0%|          | 0/28881 [00:00<?, ?it/s]\u001b[A\n",
      " 57%|█████▋    | 16384/28881 [00:00<00:00, 53845.14it/s]\u001b[A\n",
      "32768it [00:01, 42511.67it/s]                           \u001b[A\n",
      "\u001b[A\n",
      "0it [00:00, ?it/s]\u001b[A"
     ]
    },
    {
     "name": "stdout",
     "output_type": "stream",
     "text": [
      "Extracting /Users/samnan/.pytorch/MNIST_data/MNIST/raw/train-labels-idx1-ubyte.gz to /Users/samnan/.pytorch/MNIST_data/MNIST/raw\n",
      "Downloading http://yann.lecun.com/exdb/mnist/t10k-images-idx3-ubyte.gz to /Users/samnan/.pytorch/MNIST_data/MNIST/raw/t10k-images-idx3-ubyte.gz\n"
     ]
    },
    {
     "name": "stderr",
     "output_type": "stream",
     "text": [
      "\n",
      "  0%|          | 0/1648877 [00:00<?, ?it/s]\u001b[A\n",
      "  0%|          | 8192/1648877 [00:00<01:06, 24687.99it/s]\u001b[A\n",
      "  1%|          | 16384/1648877 [00:01<00:56, 28767.98it/s]\u001b[A\n",
      "  1%|▏         | 24576/1648877 [00:01<01:10, 23150.93it/s]\u001b[A\n",
      "  2%|▏         | 40960/1648877 [00:01<01:00, 26456.07it/s]\u001b[A\n",
      "  3%|▎         | 49152/1648877 [00:02<01:11, 22415.11it/s]\u001b[A\n",
      "  3%|▎         | 57344/1648877 [00:03<01:33, 17033.36it/s]\u001b[A\n",
      "  4%|▍         | 65536/1648877 [00:03<01:20, 19714.93it/s]\u001b[A\n",
      "  4%|▍         | 73728/1648877 [00:05<02:24, 10871.99it/s]\u001b[A\n",
      "  5%|▍         | 81920/1648877 [00:05<02:09, 12101.90it/s]\u001b[A\n",
      "  5%|▌         | 90112/1648877 [00:06<02:04, 12526.41it/s]\u001b[A\n",
      "  6%|▌         | 98304/1648877 [00:06<01:49, 14193.60it/s]\u001b[A\n",
      "  6%|▋         | 106496/1648877 [00:06<01:42, 15055.05it/s]\u001b[A\n",
      "  7%|▋         | 114688/1648877 [00:07<01:41, 15072.61it/s]\u001b[A\n",
      "  8%|▊         | 131072/1648877 [00:08<01:24, 17963.81it/s]\u001b[A\n",
      "  8%|▊         | 139264/1648877 [00:08<01:26, 17352.13it/s]\u001b[A\n",
      "  9%|▉         | 147456/1648877 [00:08<01:18, 19097.78it/s]\u001b[A\n",
      "  9%|▉         | 155648/1648877 [00:09<01:08, 21833.35it/s]\u001b[A\n",
      " 10%|▉         | 163840/1648877 [00:09<01:16, 19344.98it/s]\u001b[A\n",
      " 10%|█         | 172032/1648877 [00:10<01:34, 15598.91it/s]\u001b[A\n",
      " 11%|█         | 180224/1648877 [00:10<01:36, 15240.91it/s]\u001b[A\n",
      " 11%|█▏        | 188416/1648877 [00:12<02:27, 9876.37it/s] \u001b[A\n",
      " 12%|█▏        | 196608/1648877 [00:13<02:09, 11191.17it/s]\u001b[A\n",
      " 12%|█▏        | 204800/1648877 [00:13<02:14, 10729.76it/s]\u001b[A\n",
      "9920512it [11:50, 23152.72it/s]                             [A\n",
      " 13%|█▎        | 221184/1648877 [00:15<02:12, 10781.27it/s]\u001b[A\n",
      " 14%|█▍        | 229376/1648877 [00:15<01:57, 12100.17it/s]\u001b[A\n",
      " 14%|█▍        | 237568/1648877 [00:16<01:41, 13953.50it/s]\u001b[A\n",
      " 15%|█▍        | 245760/1648877 [00:16<01:36, 14577.68it/s]\u001b[A\n",
      " 15%|█▌        | 253952/1648877 [00:17<01:25, 16308.44it/s]\u001b[A\n",
      " 16%|█▌        | 262144/1648877 [00:17<01:38, 14015.29it/s]\u001b[A\n",
      " 16%|█▋        | 270336/1648877 [00:19<02:54, 7895.85it/s] \u001b[A\n",
      " 17%|█▋        | 278528/1648877 [00:20<02:31, 9036.75it/s]\u001b[A\n",
      " 17%|█▋        | 286720/1648877 [00:21<02:24, 9456.42it/s]\u001b[A\n",
      " 18%|█▊        | 294912/1648877 [00:21<02:10, 10413.61it/s]\u001b[A\n",
      " 18%|█▊        | 303104/1648877 [00:22<02:13, 10093.62it/s]\u001b[A\n",
      " 19%|█▉        | 311296/1648877 [00:23<01:58, 11313.80it/s]\u001b[A\n",
      " 19%|█▉        | 319488/1648877 [00:24<01:57, 11286.44it/s]\u001b[A\n",
      " 20%|█▉        | 327680/1648877 [00:24<01:56, 11295.60it/s]\u001b[A\n",
      " 20%|██        | 335872/1648877 [00:25<01:46, 12277.35it/s]\u001b[A\n",
      " 21%|██        | 344064/1648877 [00:25<01:32, 14170.94it/s]\u001b[A\n",
      " 21%|██▏       | 352256/1648877 [00:26<01:28, 14731.31it/s]\u001b[A\n",
      " 22%|██▏       | 360448/1648877 [00:26<01:25, 15105.97it/s]\u001b[A\n",
      " 22%|██▏       | 368640/1648877 [00:27<01:24, 15202.25it/s]\u001b[A\n",
      " 23%|██▎       | 376832/1648877 [00:28<01:43, 12307.71it/s]\u001b[A\n",
      " 23%|██▎       | 385024/1648877 [00:28<01:40, 12568.10it/s]\u001b[A\n",
      " 24%|██▍       | 393216/1648877 [00:29<01:27, 14394.92it/s]\u001b[A\n",
      " 24%|██▍       | 401408/1648877 [00:29<01:29, 13885.00it/s]\u001b[A\n",
      " 25%|██▍       | 409600/1648877 [00:31<02:02, 10095.84it/s]\u001b[A\n",
      " 25%|██▌       | 417792/1648877 [00:32<02:14, 9136.92it/s] \u001b[A\n",
      " 26%|██▌       | 425984/1648877 [00:33<02:18, 8846.26it/s]\u001b[A\n",
      " 26%|██▋       | 434176/1648877 [00:34<02:20, 8657.20it/s]\u001b[A\n",
      " 27%|██▋       | 442368/1648877 [00:35<02:19, 8636.94it/s]\u001b[A\n",
      " 27%|██▋       | 450560/1648877 [00:36<02:50, 7040.54it/s]\u001b[A\n",
      " 28%|██▊       | 458752/1648877 [00:37<02:20, 8498.43it/s]\u001b[A\n",
      " 28%|██▊       | 466944/1648877 [00:37<01:58, 9935.57it/s]\u001b[A\n",
      " 29%|██▉       | 475136/1648877 [00:38<01:44, 11269.94it/s]\u001b[A\n",
      " 29%|██▉       | 483328/1648877 [00:38<01:23, 14039.41it/s]\u001b[A\n",
      " 30%|██▉       | 491520/1648877 [00:38<01:15, 15261.18it/s]\u001b[A\n",
      " 30%|███       | 499712/1648877 [00:39<01:24, 13652.34it/s]\u001b[A\n",
      " 31%|███       | 507904/1648877 [00:39<01:08, 16552.32it/s]\u001b[A\n",
      " 31%|███▏      | 516096/1648877 [00:40<01:08, 16478.47it/s]\u001b[A\n",
      " 32%|███▏      | 524288/1648877 [00:40<00:58, 19375.77it/s]\u001b[A\n",
      " 32%|███▏      | 532480/1648877 [00:41<01:00, 18374.37it/s]\u001b[A\n",
      " 33%|███▎      | 540672/1648877 [00:41<01:02, 17611.06it/s]\u001b[A\n",
      " 33%|███▎      | 548864/1648877 [00:41<00:53, 20379.97it/s]\u001b[A\n",
      " 34%|███▍      | 557056/1648877 [00:42<01:00, 18098.54it/s]\u001b[A\n",
      " 34%|███▍      | 565248/1648877 [00:42<00:51, 20919.62it/s]\u001b[A\n",
      " 35%|███▍      | 573440/1648877 [00:44<01:28, 12088.73it/s]\u001b[A\n",
      " 35%|███▌      | 581632/1648877 [00:44<01:11, 14918.31it/s]\u001b[A\n",
      " 36%|███▌      | 589824/1648877 [00:45<01:26, 12257.83it/s]\u001b[A\n",
      " 36%|███▋      | 598016/1648877 [00:45<01:19, 13273.24it/s]\u001b[A\n",
      " 37%|███▋      | 606208/1648877 [00:46<01:05, 15980.45it/s]\u001b[A\n",
      " 37%|███▋      | 614400/1648877 [00:46<01:06, 15449.90it/s]\u001b[A\n",
      " 38%|███▊      | 622592/1648877 [00:46<00:53, 19350.01it/s]\u001b[A\n",
      " 38%|███▊      | 630784/1648877 [00:47<00:46, 22064.98it/s]\u001b[A\n",
      " 39%|███▉      | 638976/1648877 [00:47<01:02, 16186.50it/s]\u001b[A\n",
      " 39%|███▉      | 647168/1648877 [00:48<00:49, 20093.27it/s]\u001b[A\n",
      " 40%|███▉      | 655360/1648877 [00:48<00:46, 21389.77it/s]\u001b[A\n",
      " 40%|████      | 663552/1648877 [00:49<01:26, 11452.43it/s]\u001b[A\n",
      " 41%|████      | 679936/1648877 [00:50<01:08, 14235.90it/s]\u001b[A\n",
      " 42%|████▏     | 688128/1648877 [00:50<00:55, 17159.56it/s]\u001b[A\n",
      " 42%|████▏     | 696320/1648877 [00:50<00:47, 20031.73it/s]\u001b[A\n",
      " 43%|████▎     | 704512/1648877 [00:51<00:41, 22630.77it/s]\u001b[A\n",
      " 43%|████▎     | 712704/1648877 [00:51<00:41, 22735.91it/s]\u001b[A\n",
      " 44%|████▎     | 720896/1648877 [00:51<00:44, 20951.16it/s]\u001b[A\n",
      " 44%|████▍     | 729088/1648877 [00:52<00:39, 23483.28it/s]\u001b[A\n",
      " 45%|████▍     | 737280/1648877 [00:52<00:35, 25648.00it/s]\u001b[A\n",
      " 45%|████▌     | 745472/1648877 [00:52<00:32, 27513.59it/s]\u001b[A\n",
      " 46%|████▌     | 753664/1648877 [00:53<00:33, 26696.51it/s]\u001b[A\n",
      " 46%|████▌     | 761856/1648877 [00:53<00:28, 30598.29it/s]\u001b[A\n",
      " 47%|████▋     | 770048/1648877 [00:53<00:33, 26060.03it/s]\u001b[A\n",
      " 47%|████▋     | 778240/1648877 [00:54<00:41, 20905.34it/s]\u001b[A\n",
      " 48%|████▊     | 786432/1648877 [00:54<00:36, 23493.19it/s]\u001b[A\n",
      " 48%|████▊     | 794624/1648877 [00:55<00:43, 19672.40it/s]\u001b[A\n",
      " 49%|████▊     | 802816/1648877 [00:55<00:56, 15027.84it/s]\u001b[A\n",
      " 49%|████▉     | 811008/1648877 [00:56<00:54, 15416.13it/s]\u001b[A\n",
      " 50%|████▉     | 819200/1648877 [00:56<00:54, 15123.57it/s]\u001b[A\n",
      " 50%|█████     | 827392/1648877 [00:57<01:05, 12455.29it/s]\u001b[A\n",
      " 51%|█████     | 835584/1648877 [00:58<00:55, 14706.47it/s]\u001b[A\n",
      " 51%|█████     | 843776/1648877 [00:58<00:53, 15174.67it/s]\u001b[A\n",
      " 52%|█████▏    | 851968/1648877 [00:59<00:58, 13616.61it/s]\u001b[A\n",
      " 52%|█████▏    | 860160/1648877 [01:00<00:57, 13620.78it/s]\u001b[A\n",
      " 53%|█████▎    | 868352/1648877 [01:01<01:07, 11586.70it/s]\u001b[A\n",
      " 53%|█████▎    | 876544/1648877 [01:01<01:13, 10489.55it/s]\u001b[A\n",
      " 54%|█████▎    | 884736/1648877 [01:02<01:05, 11684.08it/s]\u001b[A\n",
      " 54%|█████▍    | 892928/1648877 [01:02<00:59, 12795.94it/s]\u001b[A\n",
      " 55%|█████▍    | 901120/1648877 [01:03<00:54, 13706.01it/s]\u001b[A\n",
      " 55%|█████▌    | 909312/1648877 [01:04<01:14, 9963.18it/s] \u001b[A\n",
      " 56%|█████▌    | 917504/1648877 [01:05<01:18, 9367.20it/s]\u001b[A\n",
      " 56%|█████▌    | 925696/1648877 [01:06<01:13, 9799.56it/s]\u001b[A\n",
      " 57%|█████▋    | 933888/1648877 [01:07<01:05, 10853.66it/s]\u001b[A\n",
      " 57%|█████▋    | 942080/1648877 [01:07<01:06, 10597.64it/s]\u001b[A\n",
      " 58%|█████▊    | 950272/1648877 [01:08<01:01, 11322.83it/s]\u001b[A\n",
      " 58%|█████▊    | 958464/1648877 [01:09<01:01, 11201.45it/s]\u001b[A\n",
      " 59%|█████▊    | 966656/1648877 [01:09<00:48, 13954.55it/s]\u001b[A\n",
      " 59%|█████▉    | 974848/1648877 [01:11<01:11, 9368.76it/s] \u001b[A\n",
      " 60%|█████▉    | 983040/1648877 [01:11<01:08, 9791.44it/s]\u001b[A\n",
      " 60%|██████    | 991232/1648877 [01:12<01:01, 10690.12it/s]\u001b[A\n",
      " 61%|██████    | 999424/1648877 [01:12<00:48, 13381.98it/s]\u001b[A\n",
      " 61%|██████    | 1007616/1648877 [01:12<00:39, 16268.33it/s]\u001b[A\n",
      " 62%|██████▏   | 1015808/1648877 [01:13<00:33, 19108.70it/s]\u001b[A\n",
      " 62%|██████▏   | 1024000/1648877 [01:13<00:28, 21782.47it/s]\u001b[A\n",
      " 63%|██████▎   | 1032192/1648877 [01:14<00:32, 18936.53it/s]\u001b[A\n",
      " 63%|██████▎   | 1040384/1648877 [01:14<00:33, 18124.47it/s]\u001b[A\n",
      " 64%|██████▎   | 1048576/1648877 [01:14<00:28, 20929.33it/s]\u001b[A\n",
      " 64%|██████▍   | 1056768/1648877 [01:15<00:29, 20257.70it/s]\u001b[A\n",
      " 65%|██████▍   | 1064960/1648877 [01:15<00:29, 20006.16it/s]\u001b[A\n",
      " 65%|██████▌   | 1073152/1648877 [01:16<00:33, 16986.34it/s]\u001b[A\n",
      " 66%|██████▌   | 1081344/1648877 [01:16<00:33, 16813.12it/s]\u001b[A\n"
     ]
    },
    {
     "name": "stderr",
     "output_type": "stream",
     "text": [
      " 66%|██████▌   | 1089536/1648877 [01:17<00:40, 13745.43it/s]\u001b[A\n",
      " 67%|██████▋   | 1097728/1648877 [01:19<01:05, 8413.92it/s] \u001b[A\n",
      " 67%|██████▋   | 1105920/1648877 [01:20<01:10, 7734.96it/s]\u001b[A\n",
      " 68%|██████▊   | 1114112/1648877 [01:22<01:30, 5892.82it/s]\u001b[A\n",
      " 68%|██████▊   | 1122304/1648877 [01:23<01:19, 6664.79it/s]\u001b[A\n",
      " 69%|██████▊   | 1130496/1648877 [01:24<01:07, 7692.09it/s]\u001b[A\n",
      " 69%|██████▉   | 1138688/1648877 [01:24<00:51, 9974.39it/s]\u001b[A\n",
      " 70%|██████▉   | 1146880/1648877 [01:26<01:07, 7480.42it/s]\u001b[A\n",
      " 70%|███████   | 1155072/1648877 [01:27<01:06, 7389.18it/s]\u001b[A\n",
      " 71%|███████   | 1163264/1648877 [01:28<01:08, 7065.67it/s]\u001b[A\n",
      " 71%|███████   | 1171456/1648877 [01:29<01:01, 7716.52it/s]\u001b[A\n",
      " 72%|███████▏  | 1179648/1648877 [01:30<00:51, 9174.87it/s]\u001b[A\n",
      " 72%|███████▏  | 1187840/1648877 [01:30<00:45, 10170.49it/s]\u001b[A\n",
      " 73%|███████▎  | 1196032/1648877 [01:31<00:39, 11485.07it/s]\u001b[A\n",
      " 73%|███████▎  | 1204224/1648877 [01:31<00:35, 12640.23it/s]\u001b[A\n",
      " 74%|███████▎  | 1212416/1648877 [01:32<00:28, 15486.98it/s]\u001b[A\n",
      " 74%|███████▍  | 1220608/1648877 [01:32<00:23, 18233.22it/s]\u001b[A\n",
      " 75%|███████▍  | 1228800/1648877 [01:32<00:23, 17615.82it/s]\u001b[A\n",
      " 75%|███████▌  | 1236992/1648877 [01:33<00:23, 17804.52it/s]\u001b[A\n",
      " 77%|███████▋  | 1261568/1648877 [01:33<00:18, 20637.92it/s]\u001b[A\n",
      " 77%|███████▋  | 1269760/1648877 [01:34<00:21, 17249.39it/s]\u001b[A\n",
      " 78%|███████▊  | 1286144/1648877 [01:35<00:18, 19823.47it/s]\u001b[A\n",
      " 78%|███████▊  | 1294336/1648877 [01:37<00:37, 9493.63it/s] \u001b[A\n",
      " 79%|███████▉  | 1302528/1648877 [01:37<00:34, 9908.50it/s]\u001b[A\n",
      " 79%|███████▉  | 1310720/1648877 [01:39<00:44, 7579.38it/s]\u001b[A\n",
      " 80%|███████▉  | 1318912/1648877 [01:40<00:36, 9035.88it/s]\u001b[A\n",
      " 80%|████████  | 1327104/1648877 [01:40<00:27, 11524.75it/s]\u001b[A\n",
      " 81%|████████  | 1335296/1648877 [01:41<00:36, 8704.88it/s] \u001b[A\n",
      " 81%|████████▏ | 1343488/1648877 [01:42<00:30, 10148.50it/s]\u001b[A\n",
      " 82%|████████▏ | 1351680/1648877 [01:42<00:25, 11464.04it/s]\u001b[A\n",
      " 82%|████████▏ | 1359872/1648877 [01:43<00:23, 12182.55it/s]\u001b[A\n",
      " 83%|████████▎ | 1368064/1648877 [01:43<00:22, 12762.53it/s]\u001b[A\n",
      " 83%|████████▎ | 1376256/1648877 [01:44<00:17, 15638.49it/s]\u001b[A\n",
      " 84%|████████▍ | 1384448/1648877 [01:44<00:15, 16616.71it/s]\u001b[A\n",
      " 84%|████████▍ | 1392640/1648877 [01:44<00:13, 18437.65it/s]\u001b[A\n",
      " 85%|████████▍ | 1400832/1648877 [01:45<00:11, 21240.26it/s]\u001b[A\n",
      " 85%|████████▌ | 1409024/1648877 [01:45<00:10, 23658.50it/s]\u001b[A\n",
      " 86%|████████▌ | 1417216/1648877 [01:45<00:09, 23525.09it/s]\u001b[A\n",
      " 86%|████████▋ | 1425408/1648877 [01:45<00:08, 25706.37it/s]\u001b[A\n",
      " 87%|████████▋ | 1433600/1648877 [01:46<00:08, 24188.69it/s]\u001b[A\n",
      " 87%|████████▋ | 1441792/1648877 [01:46<00:08, 23663.72it/s]\u001b[A\n",
      " 88%|████████▊ | 1449984/1648877 [01:47<00:12, 15816.46it/s]\u001b[A\n",
      " 88%|████████▊ | 1458176/1648877 [01:48<00:11, 15990.69it/s]\u001b[A\n",
      " 89%|████████▉ | 1466368/1648877 [01:48<00:11, 16141.73it/s]\u001b[A\n",
      " 89%|████████▉ | 1474560/1648877 [01:49<00:15, 11376.27it/s]\u001b[A\n",
      " 90%|████████▉ | 1482752/1648877 [01:50<00:13, 12566.18it/s]\u001b[A\n",
      " 90%|█████████ | 1490944/1648877 [01:50<00:11, 13522.17it/s]\u001b[A\n",
      " 91%|█████████ | 1499136/1648877 [01:51<00:09, 16446.47it/s]\u001b[A\n",
      " 91%|█████████▏| 1507328/1648877 [01:52<00:12, 11614.28it/s]\u001b[A\n",
      " 92%|█████████▏| 1515520/1648877 [01:52<00:09, 14407.41it/s]\u001b[A\n",
      " 92%|█████████▏| 1523712/1648877 [01:53<00:08, 13964.34it/s]\u001b[A\n",
      " 93%|█████████▎| 1531904/1648877 [01:53<00:08, 13862.05it/s]\u001b[A\n",
      " 93%|█████████▎| 1540096/1648877 [01:54<00:08, 13184.29it/s]\u001b[A\n",
      " 94%|█████████▍| 1548288/1648877 [01:55<00:09, 11153.59it/s]\u001b[A\n",
      " 94%|█████████▍| 1556480/1648877 [01:56<00:10, 9135.30it/s] \u001b[A\n",
      " 95%|█████████▍| 1564672/1648877 [01:57<00:07, 10538.66it/s]\u001b[A\n",
      " 95%|█████████▌| 1572864/1648877 [01:58<00:08, 9021.35it/s] \u001b[A\n",
      " 96%|█████████▌| 1581056/1648877 [01:58<00:06, 10438.12it/s]\u001b[A\n",
      " 96%|█████████▋| 1589248/1648877 [01:59<00:04, 13106.51it/s]\u001b[A\n",
      " 97%|█████████▋| 1597440/1648877 [02:00<00:04, 11122.19it/s]\u001b[A\n",
      " 97%|█████████▋| 1605632/1648877 [02:00<00:03, 11112.71it/s]\u001b[A\n",
      " 98%|█████████▊| 1613824/1648877 [02:02<00:03, 9317.90it/s] \u001b[A\n",
      " 98%|█████████▊| 1622016/1648877 [02:03<00:03, 8951.10it/s]\u001b[A\n",
      " 99%|█████████▉| 1630208/1648877 [02:04<00:02, 8927.73it/s]\u001b[A\n",
      " 99%|█████████▉| 1638400/1648877 [02:05<00:01, 8475.60it/s]\u001b[A\n",
      "100%|█████████▉| 1646592/1648877 [02:05<00:00, 8855.97it/s]\u001b[A\n",
      "1654784it [02:06, 9185.57it/s]                             \u001b[A\n",
      "\n",
      "0it [00:00, ?it/s]\u001b[A\u001b[A"
     ]
    },
    {
     "name": "stdout",
     "output_type": "stream",
     "text": [
      "Extracting /Users/samnan/.pytorch/MNIST_data/MNIST/raw/t10k-images-idx3-ubyte.gz to /Users/samnan/.pytorch/MNIST_data/MNIST/raw\n",
      "Downloading http://yann.lecun.com/exdb/mnist/t10k-labels-idx1-ubyte.gz to /Users/samnan/.pytorch/MNIST_data/MNIST/raw/t10k-labels-idx1-ubyte.gz\n"
     ]
    },
    {
     "name": "stderr",
     "output_type": "stream",
     "text": [
      "\n",
      "\n",
      "  0%|          | 0/4542 [00:00<?, ?it/s]\u001b[A\u001b[A\n",
      "\n",
      "8192it [00:01, 13285.81it/s]            \u001b[A\u001b[A\n",
      "\n",
      "\u001b[A\u001b[A"
     ]
    },
    {
     "name": "stdout",
     "output_type": "stream",
     "text": [
      "Extracting /Users/samnan/.pytorch/MNIST_data/MNIST/raw/t10k-labels-idx1-ubyte.gz to /Users/samnan/.pytorch/MNIST_data/MNIST/raw\n",
      "Processing...\n",
      "Done!\n"
     ]
    }
   ],
   "source": [
    "### Run this cell\n",
    "\n",
    "from torchvision import datasets, transforms\n",
    "\n",
    "# Define a transform to normalize the data\n",
    "transform = transforms.Compose([transforms.ToTensor(),\n",
    "                              transforms.Normalize((0.5,), (0.5,)),\n",
    "                              ])\n",
    "\n",
    "# Download and load the training data\n",
    "trainset = datasets.MNIST('~/.pytorch/MNIST_data/', download=True, train=True, transform=transform)\n",
    "trainloader = torch.utils.data.DataLoader(trainset, batch_size=64, shuffle=True)"
   ]
  },
  {
   "cell_type": "markdown",
   "metadata": {},
   "source": [
    "We have the training data loaded into `trainloader` and we make that an iterator with `iter(trainloader)`. Later, we'll use this to loop through the dataset for training, like\n",
    "\n",
    "```python\n",
    "for image, label in trainloader:\n",
    "    ## do things with images and labels\n",
    "```\n",
    "\n",
    "You'll notice I created the `trainloader` with a batch size of 64, and `shuffle=True`. The batch size is the number of images we get in one iteration from the data loader and pass through our network, often called a *batch*. And `shuffle=True` tells it to shuffle the dataset every time we start going through the data loader again. But here I'm just grabbing the first batch so we can check out the data. We can see below that `images` is just a tensor with size `(64, 1, 28, 28)`. So, 64 images per batch, 1 color channel, and 28x28 images."
   ]
  },
  {
   "cell_type": "code",
   "execution_count": 3,
   "metadata": {},
   "outputs": [
    {
     "name": "stdout",
     "output_type": "stream",
     "text": [
      "<class 'torch.Tensor'>\n",
      "torch.Size([64, 1, 28, 28])\n",
      "torch.Size([64])\n"
     ]
    },
    {
     "name": "stderr",
     "output_type": "stream",
     "text": [
      "\n",
      "1654784it [02:24, 9185.57it/s]\u001b[A"
     ]
    }
   ],
   "source": [
    "dataiter = iter(trainloader)\n",
    "images, labels = dataiter.next()\n",
    "print(type(images))\n",
    "print(images.shape)\n",
    "print(labels.shape)"
   ]
  },
  {
   "cell_type": "markdown",
   "metadata": {},
   "source": [
    "This is what one of the images looks like. "
   ]
  },
  {
   "cell_type": "code",
   "execution_count": 4,
   "metadata": {},
   "outputs": [
    {
     "data": {
      "image/png": "[encoded data removed]",
      "text/plain": [
       "<Figure size 432x288 with 1 Axes>"
      ]
     },
     "metadata": {
      "image/png": {
       "height": 250,
       "width": 253
      },
      "needs_background": "light"
     },
     "output_type": "display_data"
    }
   ],
   "source": [
    "plt.imshow(images[1].numpy().squeeze(), cmap='Greys_r');"
   ]
  },
  {
   "cell_type": "markdown",
   "metadata": {},
   "source": [
    "First, let's try to build a simple network for this dataset using weight matrices and matrix multiplications. Then, we'll see how to do it using PyTorch's `nn` module which provides a much more convenient and powerful method for defining network architectures.\n",
    "\n",
    "The networks you've seen so far are called *fully-connected* or *dense* networks. Each unit in one layer is connected to each unit in the next layer. In fully-connected networks, the input to each layer must be a one-dimensional vector (which can be stacked into a 2D tensor as a batch of multiple examples). However, our images are 28x28 2D tensors, so we need to convert them into 1D vectors. Thinking about sizes, we need to convert the batch of images with shape `(64, 1, 28, 28)` to a have a shape of `(64, 784)`, 784 is 28 times 28. This is typically called *flattening*, we flattened the 2D images into 1D vectors.\n",
    "\n",
    "Previously you built a network with one output unit. Here we need 10 output units, one for each digit. We want our network to predict the digit shown in an image, so what we'll do is calculate probabilities that the image is of any one digit or class. This ends up being a discrete probability distribution over the classes (digits) that tells us the most likely class for the image. That means we need 10 output units for the 10 classes (digits). We'll see how to convert the network output into a probability distribution next.\n",
    "\n",
    "> **Exercise:** Flatten the batch of images `images`. Then build a multi-layer network with 784 input units, 256 hidden units, and 10 output units using random tensors for the weights and biases. For now, use a sigmoid activation for the hidden layer. Leave the output layer without an activation, we'll add one that gives us a probability distribution next."
   ]
  },
  {
   "cell_type": "code",
   "execution_count": 11,
   "metadata": {},
   "outputs": [],
   "source": [
    "## Your solution\n",
    "\n",
    "def activation(x):\n",
    "    return 1 / (1 + torch.exp(-x))\n",
    "\n",
    "n_input = 28 * 28\n",
    "n_hidden = 256\n",
    "n_output = 10\n",
    "\n",
    "W1 = torch.randn(n_input, n_hidden)\n",
    "W2 = torch.randn(n_hidden, n_output)\n",
    "\n",
    "B1 = torch.randn(n_hidden)\n",
    "B2 = torch.randn(n_output)\n",
    "\n",
    "images = images.view(images.shape[0], -1)\n",
    "\n",
    "h = activation(torch.mm(images, W1) + B1)\n",
    "out = torch.mm(h, W2) + B2"
   ]
  },
  {
   "cell_type": "markdown",
   "metadata": {},
   "source": [
    "Now we have 10 outputs for our network. We want to pass in an image to our network and get out a probability distribution over the classes that tells us the likely class(es) the image belongs to. Something that looks like this:\n",
    "<img src='assets/image_distribution.png' width=500px>\n",
    "\n",
    "Here we see that the probability for each class is roughly the same. This is representing an untrained network, it hasn't seen any data yet so it just returns a uniform distribution with equal probabilities for each class.\n",
    "\n",
    "To calculate this probability distribution, we often use the [**softmax** function](https://en.wikipedia.org/wiki/Softmax_function). Mathematically this looks like\n",
    "\n",
    "$$\n",
    "\\Large \\sigma(x_i) = \\cfrac{e^{x_i}}{\\sum_k^K{e^{x_k}}}\n",
    "$$\n",
    "\n",
    "What this does is squish each input $x_i$ between 0 and 1 and normalizes the values to give you a proper probability distribution where the probabilites sum up to one.\n",
    "\n",
    "> **Exercise:** Implement a function `softmax` that performs the softmax calculation and returns probability distributions for each example in the batch. Note that you'll need to pay attention to the shapes when doing this. If you have a tensor `a` with shape `(64, 10)` and a tensor `b` with shape `(64,)`, doing `a/b` will give you an error because PyTorch will try to do the division across the columns (called broadcasting) but you'll get a size mismatch. The way to think about this is for each of the 64 examples, you only want to divide by one value, the sum in the denominator. So you need `b` to have a shape of `(64, 1)`. This way PyTorch will divide the 10 values in each row of `a` by the one value in each row of `b`. Pay attention to how you take the sum as well. You'll need to define the `dim` keyword in `torch.sum`. Setting `dim=0` takes the sum across the rows while `dim=1` takes the sum across the columns."
   ]
  },
  {
   "cell_type": "code",
   "execution_count": 14,
   "metadata": {},
   "outputs": [
    {
     "name": "stdout",
     "output_type": "stream",
     "text": [
      "torch.Size([64, 10])\n",
      "tensor([1.0000, 1.0000, 1.0000, 1.0000, 1.0000, 1.0000, 1.0000, 1.0000, 1.0000,\n",
      "        1.0000, 1.0000, 1.0000, 1.0000, 1.0000, 1.0000, 1.0000, 1.0000, 1.0000,\n",
      "        1.0000, 1.0000, 1.0000, 1.0000, 1.0000, 1.0000, 1.0000, 1.0000, 1.0000,\n",
      "        1.0000, 1.0000, 1.0000, 1.0000, 1.0000, 1.0000, 1.0000, 1.0000, 1.0000,\n",
      "        1.0000, 1.0000, 1.0000, 1.0000, 1.0000, 1.0000, 1.0000, 1.0000, 1.0000,\n",
      "        1.0000, 1.0000, 1.0000, 1.0000, 1.0000, 1.0000, 1.0000, 1.0000, 1.0000,\n",
      "        1.0000, 1.0000, 1.0000, 1.0000, 1.0000, 1.0000, 1.0000, 1.0000, 1.0000,\n",
      "        1.0000])\n"
     ]
    }
   ],
   "source": [
    "def softmax(x):\n",
    "    return torch.exp(x) / torch.sum(torch.exp(x), dim=1).view(-1, 1)\n",
    "\n",
    "# Here, out should be the output of the network in the previous excercise with shape (64,10)\n",
    "probabilities = softmax(out)\n",
    "\n",
    "# Does it have the right shape? Should be (64, 10)\n",
    "print(probabilities.shape)\n",
    "# Does it sum to 1?\n",
    "print(probabilities.sum(dim=1))"
   ]
  },
  {
   "cell_type": "markdown",
   "metadata": {},
   "source": [
    "## Building networks with PyTorch\n",
    "\n",
    "PyTorch provides a module `nn` that makes building networks much simpler. Here I'll show you how to build the same one as above with 784 inputs, 256 hidden units, 10 output units and a softmax output."
   ]
  },
  {
   "cell_type": "code",
   "execution_count": 15,
   "metadata": {},
   "outputs": [],
   "source": [
    "from torch import nn"
   ]
  },
  {
   "cell_type": "code",
   "execution_count": 16,
   "metadata": {},
   "outputs": [],
   "source": [
    "class Network(nn.Module):\n",
    "    def __init__(self):\n",
    "        super().__init__()\n",
    "        \n",
    "        # Inputs to hidden layer linear transformation\n",
    "        self.hidden = nn.Linear(784, 256)\n",
    "        # Output layer, 10 units - one for each digit\n",
    "        self.output = nn.Linear(256, 10)\n",
    "        \n",
    "        # Define sigmoid activation and softmax output \n",
    "        self.sigmoid = nn.Sigmoid()\n",
    "        self.softmax = nn.Softmax(dim=1)\n",
    "        \n",
    "    def forward(self, x):\n",
    "        # Pass the input tensor through each of our operations\n",
    "        x = self.hidden(x)\n",
    "        x = self.sigmoid(x)\n",
    "        x = self.output(x)\n",
    "        x = self.softmax(x)\n",
    "        \n",
    "        return x"
   ]
  },
  {
   "cell_type": "markdown",
   "metadata": {},
   "source": [
    "Let's go through this bit by bit.\n",
    "\n",
    "```python\n",
    "class Network(nn.Module):\n",
    "```\n",
    "\n",
    "Here we're inheriting from `nn.Module`. Combined with `super().__init__()` this creates a class that tracks the architecture and provides a lot of useful methods and attributes. It is mandatory to inherit from `nn.Module` when you're creating a class for your network. The name of the class itself can be anything.\n",
    "\n",
    "```python\n",
    "self.hidden = nn.Linear(784, 256)\n",
    "```\n",
    "\n",
    "This line creates a module for a linear transformation, $x\\mathbf{W} + b$, with 784 inputs and 256 outputs and assigns it to `self.hidden`. The module automatically creates the weight and bias tensors which we'll use in the `forward` method. You can access the weight and bias tensors once the network (`net`) is created with `net.hidden.weight` and `net.hidden.bias`.\n",
    "\n",
    "```python\n",
    "self.output = nn.Linear(256, 10)\n",
    "```\n",
    "\n",
    "Similarly, this creates another linear transformation with 256 inputs and 10 outputs.\n",
    "\n",
    "```python\n",
    "self.sigmoid = nn.Sigmoid()\n",
    "self.softmax = nn.Softmax(dim=1)\n",
    "```\n",
    "\n",
    "Here I defined operations for the sigmoid activation and softmax output. Setting `dim=1` in `nn.Softmax(dim=1)` calculates softmax across the columns.\n",
    "\n",
    "```python\n",
    "def forward(self, x):\n",
    "```\n",
    "\n",
    "PyTorch networks created with `nn.Module` must have a `forward` method defined. It takes in a tensor `x` and passes it through the operations you defined in the `__init__` method.\n",
    "\n",
    "```python\n",
    "x = self.hidden(x)\n",
    "x = self.sigmoid(x)\n",
    "x = self.output(x)\n",
    "x = self.softmax(x)\n",
    "```\n",
    "\n",
    "Here the input tensor `x` is passed through each operation and reassigned to `x`. We can see that the input tensor goes through the hidden layer, then a sigmoid function, then the output layer, and finally the softmax function. It doesn't matter what you name the variables here, as long as the inputs and outputs of the operations match the network architecture you want to build. The order in which you define things in the `__init__` method doesn't matter, but you'll need to sequence the operations correctly in the `forward` method.\n",
    "\n",
    "Now we can create a `Network` object."
   ]
  },
  {
   "cell_type": "code",
   "execution_count": 17,
   "metadata": {},
   "outputs": [
    {
     "data": {
      "text/plain": [
       "Network(\n",
       "  (hidden): Linear(in_features=784, out_features=256, bias=True)\n",
       "  (output): Linear(in_features=256, out_features=10, bias=True)\n",
       "  (sigmoid): Sigmoid()\n",
       "  (softmax): Softmax(dim=1)\n",
       ")"
      ]
     },
     "execution_count": 17,
     "metadata": {},
     "output_type": "execute_result"
    }
   ],
   "source": [
    "# Create the network and look at it's text representation\n",
    "model = Network()\n",
    "model"
   ]
  },
  {
   "cell_type": "markdown",
   "metadata": {},
   "source": [
    "You can define the network somewhat more concisely and clearly using the `torch.nn.functional` module. This is the most common way you'll see networks defined as many operations are simple element-wise functions. We normally import this module as `F`, `import torch.nn.functional as F`."
   ]
  },
  {
   "cell_type": "code",
   "execution_count": 18,
   "metadata": {},
   "outputs": [],
   "source": [
    "import torch.nn.functional as F\n",
    "\n",
    "class Network(nn.Module):\n",
    "    def __init__(self):\n",
    "        super().__init__()\n",
    "        # Inputs to hidden layer linear transformation\n",
    "        self.hidden = nn.Linear(784, 256)\n",
    "        # Output layer, 10 units - one for each digit\n",
    "        self.output = nn.Linear(256, 10)\n",
    "        \n",
    "    def forward(self, x):\n",
    "        # Hidden layer with sigmoid activation\n",
    "        x = F.sigmoid(self.hidden(x))\n",
    "        # Output layer with softmax activation\n",
    "        x = F.softmax(self.output(x), dim=1)\n",
    "        \n",
    "        return x"
   ]
  },
  {
   "cell_type": "markdown",
   "metadata": {},
   "source": [
    "### Activation functions\n",
    "\n",
    "So far we've only been looking at the sigmoid activation function, but in general any function can be used as an activation function. The only requirement is that for a network to approximate a non-linear function, the activation functions must be non-linear. Here are a few more examples of common activation functions: Tanh (hyperbolic tangent), and ReLU (rectified linear unit).\n",
    "\n",
    "<img src=\"assets/activation.png\" width=700px>\n",
    "\n",
    "In practice, the ReLU function is used almost exclusively as the activation function for hidden layers."
   ]
  },
  {
   "cell_type": "markdown",
   "metadata": {},
   "source": [
    "### Your Turn to Build a Network\n",
    "\n",
    "<img src=\"assets/mlp_mnist.png\" width=600px>\n",
    "\n",
    "> **Exercise:** Create a network with 784 input units, a hidden layer with 128 units and a ReLU activation, then a hidden layer with 64 units and a ReLU activation, and finally an output layer with a softmax activation as shown above. You can use a ReLU activation with the `nn.ReLU` module or `F.relu` function.\n",
    "\n",
    "It's good practice to name your layers by their type of network, for instance 'fc' to represent a fully-connected layer. As you code your solution, use `fc1`, `fc2`, and `fc3` as your layer names."
   ]
  },
  {
   "cell_type": "code",
   "execution_count": 29,
   "metadata": {
    "scrolled": true
   },
   "outputs": [
    {
     "data": {
      "text/plain": [
       "Network(\n",
       "  (fc1): Linear(in_features=784, out_features=128, bias=True)\n",
       "  (fc2): Linear(in_features=128, out_features=64, bias=True)\n",
       "  (fc3): Linear(in_features=64, out_features=10, bias=True)\n",
       ")"
      ]
     },
     "execution_count": 29,
     "metadata": {},
     "output_type": "execute_result"
    }
   ],
   "source": [
    "class Network(nn.Module):\n",
    "    def __init__(self):\n",
    "        super().__init__()\n",
    "        # Inputs to hidden layer linear transformation\n",
    "        self.fc1 = nn.Linear(784, 128)\n",
    "        self.fc2 = nn.Linear(128, 64)\n",
    "        # Output layer, 10 units - one for each digit\n",
    "        self.fc3 = nn.Linear(64, 10)\n",
    "        \n",
    "    def forward(self, x):\n",
    "        # Hidden layer with sigmoid activation\n",
    "        x = F.relu(self.fc1(x))\n",
    "        x = F.relu(self.fc2(x))\n",
    "        # Output layer with softmax activation\n",
    "        x = F.softmax(self.fc3(x), dim=1)\n",
    "        \n",
    "        return x\n",
    "\n",
    "model = Network()\n",
    "model"
   ]
  },
  {
   "cell_type": "markdown",
   "metadata": {},
   "source": [
    "### Initializing weights and biases\n",
    "\n",
    "The weights and such are automatically initialized for you, but it's possible to customize how they are initialized. The weights and biases are tensors attached to the layer you defined, you can get them with `model.fc1.weight` for instance."
   ]
  },
  {
   "cell_type": "code",
   "execution_count": 30,
   "metadata": {},
   "outputs": [
    {
     "name": "stdout",
     "output_type": "stream",
     "text": [
      "Parameter containing:\n",
      "tensor([[ 0.0114,  0.0146, -0.0176,  ...,  0.0175, -0.0328,  0.0080],\n",
      "        [ 0.0061, -0.0304, -0.0224,  ...,  0.0326,  0.0154, -0.0160],\n",
      "        [ 0.0272,  0.0219,  0.0245,  ..., -0.0028,  0.0190, -0.0280],\n",
      "        ...,\n",
      "        [ 0.0282, -0.0131,  0.0308,  ...,  0.0150,  0.0163, -0.0017],\n",
      "        [-0.0294,  0.0010,  0.0105,  ..., -0.0161, -0.0116, -0.0199],\n",
      "        [-0.0116, -0.0348,  0.0120,  ..., -0.0239, -0.0252,  0.0075]],\n",
      "       requires_grad=True)\n",
      "Parameter containing:\n",
      "tensor([-0.0136,  0.0295,  0.0062, -0.0256, -0.0325,  0.0175,  0.0271,  0.0057,\n",
      "        -0.0231, -0.0268, -0.0129, -0.0002,  0.0028, -0.0181, -0.0273, -0.0166,\n",
      "         0.0174,  0.0061, -0.0098, -0.0185, -0.0167,  0.0203, -0.0253, -0.0160,\n",
      "        -0.0102, -0.0180,  0.0126,  0.0332, -0.0030,  0.0023,  0.0355,  0.0076,\n",
      "        -0.0175, -0.0110,  0.0147,  0.0319,  0.0284,  0.0302,  0.0090,  0.0235,\n",
      "         0.0181, -0.0158,  0.0150, -0.0201,  0.0224, -0.0163,  0.0026, -0.0273,\n",
      "        -0.0296, -0.0307,  0.0104, -0.0250,  0.0299,  0.0184,  0.0324,  0.0242,\n",
      "         0.0012,  0.0350,  0.0136, -0.0236,  0.0309, -0.0198, -0.0165, -0.0142,\n",
      "         0.0336, -0.0315,  0.0196,  0.0270,  0.0129, -0.0135, -0.0189, -0.0211,\n",
      "         0.0085, -0.0060, -0.0003,  0.0066,  0.0168, -0.0045,  0.0200, -0.0067,\n",
      "        -0.0064, -0.0258, -0.0163,  0.0264,  0.0355,  0.0339, -0.0061, -0.0201,\n",
      "        -0.0233,  0.0221,  0.0121, -0.0025,  0.0352,  0.0343,  0.0303,  0.0044,\n",
      "        -0.0239,  0.0335,  0.0227,  0.0118,  0.0118,  0.0175, -0.0349,  0.0043,\n",
      "        -0.0039,  0.0241,  0.0029, -0.0309,  0.0247, -0.0122,  0.0175, -0.0166,\n",
      "         0.0290,  0.0053, -0.0297, -0.0154,  0.0060, -0.0003, -0.0182,  0.0254,\n",
      "         0.0201,  0.0121, -0.0187, -0.0232,  0.0256, -0.0340, -0.0343, -0.0029],\n",
      "       requires_grad=True)\n"
     ]
    }
   ],
   "source": [
    "print(model.fc1.weight)\n",
    "print(model.fc1.bias)"
   ]
  },
  {
   "cell_type": "markdown",
   "metadata": {},
   "source": [
    "For custom initialization, we want to modify these tensors in place. These are actually autograd *Variables*, so we need to get back the actual tensors with `model.fc1.weight.data`. Once we have the tensors, we can fill them with zeros (for biases) or random normal values."
   ]
  },
  {
   "cell_type": "code",
   "execution_count": 31,
   "metadata": {},
   "outputs": [
    {
     "data": {
      "text/plain": [
       "tensor([0., 0., 0., 0., 0., 0., 0., 0., 0., 0., 0., 0., 0., 0., 0., 0., 0., 0., 0., 0., 0., 0., 0., 0.,\n",
       "        0., 0., 0., 0., 0., 0., 0., 0., 0., 0., 0., 0., 0., 0., 0., 0., 0., 0., 0., 0., 0., 0., 0., 0.,\n",
       "        0., 0., 0., 0., 0., 0., 0., 0., 0., 0., 0., 0., 0., 0., 0., 0., 0., 0., 0., 0., 0., 0., 0., 0.,\n",
       "        0., 0., 0., 0., 0., 0., 0., 0., 0., 0., 0., 0., 0., 0., 0., 0., 0., 0., 0., 0., 0., 0., 0., 0.,\n",
       "        0., 0., 0., 0., 0., 0., 0., 0., 0., 0., 0., 0., 0., 0., 0., 0., 0., 0., 0., 0., 0., 0., 0., 0.,\n",
       "        0., 0., 0., 0., 0., 0., 0., 0.])"
      ]
     },
     "execution_count": 31,
     "metadata": {},
     "output_type": "execute_result"
    }
   ],
   "source": [
    "# Set biases to all zeros\n",
    "model.fc1.bias.data.fill_(0)"
   ]
  },
  {
   "cell_type": "code",
   "execution_count": 32,
   "metadata": {},
   "outputs": [
    {
     "data": {
      "text/plain": [
       "tensor([[ 0.0022,  0.0052, -0.0012,  ...,  0.0015,  0.0021, -0.0085],\n",
       "        [ 0.0058,  0.0205,  0.0178,  ...,  0.0072,  0.0033,  0.0002],\n",
       "        [ 0.0063,  0.0090, -0.0012,  ..., -0.0050, -0.0033,  0.0025],\n",
       "        ...,\n",
       "        [ 0.0157, -0.0043, -0.0172,  ..., -0.0120,  0.0127, -0.0110],\n",
       "        [-0.0011,  0.0056,  0.0213,  ..., -0.0001,  0.0040,  0.0210],\n",
       "        [ 0.0135,  0.0050,  0.0144,  ...,  0.0057,  0.0099,  0.0056]])"
      ]
     },
     "execution_count": 32,
     "metadata": {},
     "output_type": "execute_result"
    }
   ],
   "source": [
    "# sample from random normal with standard dev = 0.01\n",
    "model.fc1.weight.data.normal_(std=0.01)"
   ]
  },
  {
   "cell_type": "markdown",
   "metadata": {},
   "source": [
    "### Forward pass\n",
    "\n",
    "Now that we have a network, let's see what happens when we pass in an image."
   ]
  },
  {
   "cell_type": "code",
   "execution_count": 33,
   "metadata": {},
   "outputs": [
    {
     "data": {
      "image/png": "[encoded data removed]",
      "text/plain": [
       "<Figure size 432x648 with 2 Axes>"
      ]
     },
     "metadata": {
      "image/png": {
       "height": 226,
       "width": 423
      },
      "needs_background": "light"
     },
     "output_type": "display_data"
    }
   ],
   "source": [
    "# Grab some data \n",
    "dataiter = iter(trainloader)\n",
    "images, labels = dataiter.next()\n",
    "\n",
    "# Resize images into a 1D vector, new shape is (batch size, color channels, image pixels) \n",
    "images.resize_(64, 1, 784)\n",
    "# or images.resize_(images.shape[0], 1, 784) to automatically get batch size\n",
    "\n",
    "# Forward pass through the network\n",
    "img_idx = 0\n",
    "ps = model.forward(images[img_idx,:])\n",
    "\n",
    "img = images[img_idx]\n",
    "helper.view_classify(img.view(1, 28, 28), ps)"
   ]
  },
  {
   "cell_type": "markdown",
   "metadata": {},
   "source": [
    "As you can see above, our network has basically no idea what this digit is. It's because we haven't trained it yet, all the weights are random!\n",
    "\n",
    "### Using `nn.Sequential`\n",
    "\n",
    "PyTorch provides a convenient way to build networks like this where a tensor is passed sequentially through operations, `nn.Sequential` ([documentation](https://pytorch.org/docs/master/nn.html#torch.nn.Sequential)). Using this to build the equivalent network:"
   ]
  },
  {
   "cell_type": "code",
   "execution_count": 34,
   "metadata": {},
   "outputs": [
    {
     "name": "stdout",
     "output_type": "stream",
     "text": [
      "Sequential(\n",
      "  (0): Linear(in_features=784, out_features=128, bias=True)\n",
      "  (1): ReLU()\n",
      "  (2): Linear(in_features=128, out_features=64, bias=True)\n",
      "  (3): ReLU()\n",
      "  (4): Linear(in_features=64, out_features=10, bias=True)\n",
      "  (5): Softmax(dim=1)\n",
      ")\n"
     ]
    },
    {
     "data": {
      "image/png": "[encoded data removed]",
      "text/plain": [
       "<Figure size 432x648 with 2 Axes>"
      ]
     },
     "metadata": {
      "image/png": {
       "height": 226,
       "width": 423
      },
      "needs_background": "light"
     },
     "output_type": "display_data"
    }
   ],
   "source": [
    "# Hyperparameters for our network\n",
    "input_size = 784\n",
    "hidden_sizes = [128, 64]\n",
    "output_size = 10\n",
    "\n",
    "# Build a feed-forward network\n",
    "model = nn.Sequential(nn.Linear(input_size, hidden_sizes[0]),\n",
    "                      nn.ReLU(),\n",
    "                      nn.Linear(hidden_sizes[0], hidden_sizes[1]),\n",
    "                      nn.ReLU(),\n",
    "                      nn.Linear(hidden_sizes[1], output_size),\n",
    "                      nn.Softmax(dim=1))\n",
    "print(model)\n",
    "\n",
    "# Forward pass through the network and display output\n",
    "images, labels = next(iter(trainloader))\n",
    "images.resize_(images.shape[0], 1, 784)\n",
    "ps = model.forward(images[0,:])\n",
    "helper.view_classify(images[0].view(1, 28, 28), ps)"
   ]
  },
  {
   "cell_type": "markdown",
   "metadata": {},
   "source": [
    "Here our model is the same as before: 784 input units, a hidden layer with 128 units, ReLU activation, 64 unit hidden layer, another ReLU, then the output layer with 10 units, and the softmax output.\n",
    "\n",
    "The operations are available by passing in the appropriate index. For example, if you want to get first Linear operation and look at the weights, you'd use `model[0]`."
   ]
  },
  {
   "cell_type": "code",
   "execution_count": 35,
   "metadata": {},
   "outputs": [
    {
     "name": "stdout",
     "output_type": "stream",
     "text": [
      "Linear(in_features=784, out_features=128, bias=True)\n"
     ]
    },
    {
     "data": {
      "text/plain": [
       "Parameter containing:\n",
       "tensor([[ 0.0314, -0.0160, -0.0103,  ..., -0.0006, -0.0108, -0.0195],\n",
       "        [ 0.0258, -0.0167,  0.0267,  ...,  0.0296,  0.0205,  0.0062],\n",
       "        [ 0.0259, -0.0252,  0.0324,  ..., -0.0010, -0.0114, -0.0097],\n",
       "        ...,\n",
       "        [ 0.0173,  0.0116, -0.0085,  ...,  0.0075,  0.0316, -0.0154],\n",
       "        [ 0.0172, -0.0284,  0.0247,  ...,  0.0246,  0.0237, -0.0132],\n",
       "        [ 0.0318,  0.0071, -0.0285,  ..., -0.0354, -0.0094, -0.0208]],\n",
       "       requires_grad=True)"
      ]
     },
     "execution_count": 35,
     "metadata": {},
     "output_type": "execute_result"
    }
   ],
   "source": [
    "print(model[0])\n",
    "model[0].weight"
   ]
  },
  {
   "cell_type": "markdown",
   "metadata": {},
   "source": [
    "You can also pass in an `OrderedDict` to name the individual layers and operations, instead of using incremental integers. Note that dictionary keys must be unique, so _each operation must have a different name_."
   ]
  },
  {
   "cell_type": "code",
   "execution_count": 36,
   "metadata": {},
   "outputs": [
    {
     "data": {
      "text/plain": [
       "Sequential(\n",
       "  (fc1): Linear(in_features=784, out_features=128, bias=True)\n",
       "  (relu1): ReLU()\n",
       "  (fc2): Linear(in_features=128, out_features=64, bias=True)\n",
       "  (relu2): ReLU()\n",
       "  (output): Linear(in_features=64, out_features=10, bias=True)\n",
       "  (softmax): Softmax(dim=1)\n",
       ")"
      ]
     },
     "execution_count": 36,
     "metadata": {},
     "output_type": "execute_result"
    }
   ],
   "source": [
    "from collections import OrderedDict\n",
    "model = nn.Sequential(OrderedDict([\n",
    "                      ('fc1', nn.Linear(input_size, hidden_sizes[0])),\n",
    "                      ('relu1', nn.ReLU()),\n",
    "                      ('fc2', nn.Linear(hidden_sizes[0], hidden_sizes[1])),\n",
    "                      ('relu2', nn.ReLU()),\n",
    "                      ('output', nn.Linear(hidden_sizes[1], output_size)),\n",
    "                      ('softmax', nn.Softmax(dim=1))]))\n",
    "model"
   ]
  },
  {
   "cell_type": "markdown",
   "metadata": {},
   "source": [
    "Now you can access layers either by integer or the name"
   ]
  },
  {
   "cell_type": "code",
   "execution_count": 37,
   "metadata": {},
   "outputs": [
    {
     "name": "stdout",
     "output_type": "stream",
     "text": [
      "Linear(in_features=784, out_features=128, bias=True)\n",
      "Linear(in_features=784, out_features=128, bias=True)\n"
     ]
    }
   ],
   "source": [
    "print(model[0])\n",
    "print(model.fc1)"
   ]
  },
  {
   "cell_type": "markdown",
   "metadata": {},
   "source": [
    "In the next notebook, we'll see how we can train a neural network to accuractly predict the numbers appearing in the MNIST images."
   ]
  }
 ],
 "metadata": {
  "kernelspec": {
   "display_name": "Python 3",
   "language": "python",
   "name": "python3"
  },
  "language_info": {
   "codemirror_mode": {
    "name": "ipython",
    "version": 3
   },
   "file_extension": ".py",
   "mimetype": "text/x-python",
   "name": "python",
   "nbconvert_exporter": "python",
   "pygments_lexer": "ipython3",
   "version": "3.7.6"
  }
 },
 "nbformat": 4,
 "nbformat_minor": 2
}
